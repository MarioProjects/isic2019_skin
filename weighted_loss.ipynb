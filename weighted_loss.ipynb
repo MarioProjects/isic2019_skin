{
 "cells": [
  {
   "cell_type": "code",
   "execution_count": 1,
   "metadata": {},
   "outputs": [
    {
     "name": "stderr",
     "output_type": "stream",
     "text": [
      "usage: ipykernel_launcher.py [-h] [--verbose] [--pretrained_imagenet]\n",
      "                             [--epochs EPOCHS] [--batch_size BATCH_SIZE]\n",
      "                             [--retinex] [--shade_of_gray] [--colornet]\n",
      "                             [--model_name MODEL_NAME]\n",
      "                             [--optimizer {adam,sgd,rmsprop}]\n",
      "                             [--freezed_epochs FREEZED_EPOCHS]\n",
      "                             [--snapshot SNAPSHOT] [--balanced_sampler]\n",
      "                             [--depth_coefficient DEPTH_COEFFICIENT]\n",
      "                             [--width_coefficient WIDTH_COEFFICIENT]\n",
      "                             [--resolution_coefficient RESOLUTION_COEFFICIENT]\n",
      "                             [--compound_coefficient COMPOUND_COEFFICIENT]\n",
      "                             [--learning_rate LEARNING_RATE]\n",
      "                             [--data_augmentation] [--img_size IMG_SIZE]\n",
      "                             [--crop_size CROP_SIZE] [--output_dir OUTPUT_DIR]\n",
      "                             [--path_extension PATH_EXTENSION]\n",
      "ipykernel_launcher.py: error: unrecognized arguments: -f /run/user/1001/jupyter/kernel-4f414eb2-34c0-478e-bd23-0acf06643c14.json\n"
     ]
    },
    {
     "name": "stdout",
     "output_type": "stream",
     "text": [
      "Working with Jupyter notebook! (Default Arguments)\n",
      "results/new_logs_efficientnet_adam/\n"
     ]
    }
   ],
   "source": [
    "# !/usr/bin/env python\n",
    "# coding: utf-8\n",
    "\n",
    "# ---- Library import ----\n",
    "\n",
    "import pickle\n",
    "from time import gmtime, strftime\n",
    "\n",
    "import albumentations\n",
    "import math\n",
    "import torch.nn as nn\n",
    "from torch.utils.data import DataLoader\n",
    "import torchy\n",
    "\n",
    "# ---- My utils ----\n",
    "from utils.train_arguments import *\n",
    "from utils.utils_data import *\n",
    "from utils.utils_training import *\n",
    "\n",
    "# Primero necesitamos reescalar (si usamos los coeficientes de Efficientnet) la resolucion de las imagenes a usar\n",
    "args.crop_size = math.ceil(args.crop_size * args.resolution_coefficient)\n",
    "args.img_size = math.ceil(args.img_size * args.resolution_coefficient)\n",
    "\n",
    "train_aug = albumentations.Compose([\n",
    "    albumentations.PadIfNeeded(p=1, min_height=args.crop_size, min_width=args.crop_size),\n",
    "    albumentations.Resize(args.img_size, args.img_size),\n",
    "    albumentations.RandomCrop(p=1, height=args.crop_size, width=args.crop_size)\n",
    "])\n",
    "\n",
    "val_aug = albumentations.Compose([\n",
    "    albumentations.PadIfNeeded(p=1, min_height=args.crop_size, min_width=args.crop_size),\n",
    "    albumentations.Resize(args.img_size, args.img_size),\n",
    "    albumentations.CenterCrop(p=1, height=args.crop_size, width=args.crop_size)\n",
    "])\n",
    "\n",
    "if args.data_augmentation:\n",
    "    print(\"Data Augmentation to be implemented...\")\n",
    "\n",
    "train_dataset = ISIC2019_FromFolders(data_partition=\"train\", albumentation=train_aug)"
   ]
  },
  {
   "cell_type": "code",
   "execution_count": 2,
   "metadata": {},
   "outputs": [],
   "source": [
    "TRAIN_FILE = ISIC_PATH + \"train.txt\"\n",
    "TRAIN_IMGS = open(TRAIN_FILE).read().split('\\n')"
   ]
  },
  {
   "cell_type": "code",
   "execution_count": 3,
   "metadata": {},
   "outputs": [
    {
     "data": {
      "text/plain": [
       "21532"
      ]
     },
     "execution_count": 3,
     "metadata": {},
     "output_type": "execute_result"
    }
   ],
   "source": [
    "len(TRAIN_IMGS)"
   ]
  },
  {
   "cell_type": "code",
   "execution_count": 4,
   "metadata": {},
   "outputs": [],
   "source": [
    "for indx, img in enumerate(TRAIN_IMGS):\n",
    "    # Corregimos el path para que sea absoluto\n",
    "    if '.jpg' in img:\n",
    "        TRAIN_IMGS[indx] = ISIC_PATH + \"Train/\" + \"/\".join(img.split(\"/\")[1:])\n",
    "TRAIN_IMGS = list(filter(None, TRAIN_IMGS)) # Sanity check no empty lines/items in list"
   ]
  },
  {
   "cell_type": "code",
   "execution_count": 24,
   "metadata": {},
   "outputs": [
    {
     "data": {
      "text/plain": [
       "25331"
      ]
     },
     "execution_count": 24,
     "metadata": {},
     "output_type": "execute_result"
    }
   ],
   "source": [
    "len(ISIC_TRAIN_DF_TRUTH)"
   ]
  },
  {
   "cell_type": "code",
   "execution_count": 5,
   "metadata": {
    "scrolled": true
   },
   "outputs": [
    {
     "data": {
      "text/html": [
       "<div>\n",
       "<style scoped>\n",
       "    .dataframe tbody tr th:only-of-type {\n",
       "        vertical-align: middle;\n",
       "    }\n",
       "\n",
       "    .dataframe tbody tr th {\n",
       "        vertical-align: top;\n",
       "    }\n",
       "\n",
       "    .dataframe thead th {\n",
       "        text-align: right;\n",
       "    }\n",
       "</style>\n",
       "<table border=\"1\" class=\"dataframe\">\n",
       "  <thead>\n",
       "    <tr style=\"text-align: right;\">\n",
       "      <th></th>\n",
       "      <th>Unnamed: 0</th>\n",
       "      <th>image</th>\n",
       "      <th>MEL</th>\n",
       "      <th>NV</th>\n",
       "      <th>BCC</th>\n",
       "      <th>AK</th>\n",
       "      <th>BKL</th>\n",
       "      <th>DF</th>\n",
       "      <th>VASC</th>\n",
       "      <th>SCC</th>\n",
       "      <th>UNK</th>\n",
       "      <th>target</th>\n",
       "    </tr>\n",
       "  </thead>\n",
       "  <tbody>\n",
       "    <tr>\n",
       "      <th>0</th>\n",
       "      <td>0</td>\n",
       "      <td>ISIC_0000000</td>\n",
       "      <td>0.0</td>\n",
       "      <td>1.0</td>\n",
       "      <td>0.0</td>\n",
       "      <td>0.0</td>\n",
       "      <td>0.0</td>\n",
       "      <td>0.0</td>\n",
       "      <td>0.0</td>\n",
       "      <td>0.0</td>\n",
       "      <td>0.0</td>\n",
       "      <td>1</td>\n",
       "    </tr>\n",
       "    <tr>\n",
       "      <th>1</th>\n",
       "      <td>1</td>\n",
       "      <td>ISIC_0000001</td>\n",
       "      <td>0.0</td>\n",
       "      <td>1.0</td>\n",
       "      <td>0.0</td>\n",
       "      <td>0.0</td>\n",
       "      <td>0.0</td>\n",
       "      <td>0.0</td>\n",
       "      <td>0.0</td>\n",
       "      <td>0.0</td>\n",
       "      <td>0.0</td>\n",
       "      <td>1</td>\n",
       "    </tr>\n",
       "    <tr>\n",
       "      <th>2</th>\n",
       "      <td>2</td>\n",
       "      <td>ISIC_0000002</td>\n",
       "      <td>1.0</td>\n",
       "      <td>0.0</td>\n",
       "      <td>0.0</td>\n",
       "      <td>0.0</td>\n",
       "      <td>0.0</td>\n",
       "      <td>0.0</td>\n",
       "      <td>0.0</td>\n",
       "      <td>0.0</td>\n",
       "      <td>0.0</td>\n",
       "      <td>0</td>\n",
       "    </tr>\n",
       "    <tr>\n",
       "      <th>3</th>\n",
       "      <td>3</td>\n",
       "      <td>ISIC_0000003</td>\n",
       "      <td>0.0</td>\n",
       "      <td>1.0</td>\n",
       "      <td>0.0</td>\n",
       "      <td>0.0</td>\n",
       "      <td>0.0</td>\n",
       "      <td>0.0</td>\n",
       "      <td>0.0</td>\n",
       "      <td>0.0</td>\n",
       "      <td>0.0</td>\n",
       "      <td>1</td>\n",
       "    </tr>\n",
       "    <tr>\n",
       "      <th>4</th>\n",
       "      <td>4</td>\n",
       "      <td>ISIC_0000004</td>\n",
       "      <td>1.0</td>\n",
       "      <td>0.0</td>\n",
       "      <td>0.0</td>\n",
       "      <td>0.0</td>\n",
       "      <td>0.0</td>\n",
       "      <td>0.0</td>\n",
       "      <td>0.0</td>\n",
       "      <td>0.0</td>\n",
       "      <td>0.0</td>\n",
       "      <td>0</td>\n",
       "    </tr>\n",
       "  </tbody>\n",
       "</table>\n",
       "</div>"
      ],
      "text/plain": [
       "   Unnamed: 0         image  MEL   NV  BCC   AK  BKL   DF  VASC  SCC  UNK  \\\n",
       "0           0  ISIC_0000000  0.0  1.0  0.0  0.0  0.0  0.0   0.0  0.0  0.0   \n",
       "1           1  ISIC_0000001  0.0  1.0  0.0  0.0  0.0  0.0   0.0  0.0  0.0   \n",
       "2           2  ISIC_0000002  1.0  0.0  0.0  0.0  0.0  0.0   0.0  0.0  0.0   \n",
       "3           3  ISIC_0000003  0.0  1.0  0.0  0.0  0.0  0.0   0.0  0.0  0.0   \n",
       "4           4  ISIC_0000004  1.0  0.0  0.0  0.0  0.0  0.0   0.0  0.0  0.0   \n",
       "\n",
       "   target  \n",
       "0       1  \n",
       "1       1  \n",
       "2       0  \n",
       "3       1  \n",
       "4       0  "
      ]
     },
     "execution_count": 5,
     "metadata": {},
     "output_type": "execute_result"
    }
   ],
   "source": [
    "ISIC_TRAIN_DF_TRUTH.head()"
   ]
  },
  {
   "cell_type": "code",
   "execution_count": 13,
   "metadata": {},
   "outputs": [
    {
     "data": {
      "text/plain": [
       "array([0, 1, 2, 3, 4, 5, 6, 7])"
      ]
     },
     "execution_count": 13,
     "metadata": {},
     "output_type": "execute_result"
    }
   ],
   "source": [
    "np.unique(ISIC_TRAIN_DF_TRUTH.target)"
   ]
  },
  {
   "cell_type": "code",
   "execution_count": 15,
   "metadata": {},
   "outputs": [],
   "source": [
    "target_0 = len(ISIC_TRAIN_DF_TRUTH.loc[ISIC_TRAIN_DF_TRUTH['target'] == 0])\n",
    "target_1 = len(ISIC_TRAIN_DF_TRUTH.loc[ISIC_TRAIN_DF_TRUTH['target'] == 1])\n",
    "target_2 = len(ISIC_TRAIN_DF_TRUTH.loc[ISIC_TRAIN_DF_TRUTH['target'] == 2])\n",
    "target_3 = len(ISIC_TRAIN_DF_TRUTH.loc[ISIC_TRAIN_DF_TRUTH['target'] == 3])\n",
    "target_4 = len(ISIC_TRAIN_DF_TRUTH.loc[ISIC_TRAIN_DF_TRUTH['target'] == 4])\n",
    "target_5 = len(ISIC_TRAIN_DF_TRUTH.loc[ISIC_TRAIN_DF_TRUTH['target'] == 5])\n",
    "target_6 = len(ISIC_TRAIN_DF_TRUTH.loc[ISIC_TRAIN_DF_TRUTH['target'] == 6])\n",
    "target_7 = len(ISIC_TRAIN_DF_TRUTH.loc[ISIC_TRAIN_DF_TRUTH['target'] == 7])"
   ]
  },
  {
   "cell_type": "code",
   "execution_count": 19,
   "metadata": {},
   "outputs": [
    {
     "data": {
      "text/plain": [
       "<BarContainer object of 8 artists>"
      ]
     },
     "execution_count": 19,
     "metadata": {},
     "output_type": "execute_result"
    },
    {
     "data": {
      "image/png": "[encoded data removed]",
      "text/plain": [
       "<Figure size 432x288 with 1 Axes>"
      ]
     },
     "metadata": {
      "needs_background": "light"
     },
     "output_type": "display_data"
    }
   ],
   "source": [
    "plt.bar(np.arange(0,8),[target_0,target_1,target_2,target_3,target_4,target_5,target_6, target_7])"
   ]
  },
  {
   "cell_type": "code",
   "execution_count": 25,
   "metadata": {},
   "outputs": [],
   "source": [
    "total_targets = target_0+target_1+target_2+target_3+target_4+target_5+target_6+target_7"
   ]
  },
  {
   "cell_type": "code",
   "execution_count": 30,
   "metadata": {},
   "outputs": [],
   "source": [
    "weights = [1-(target_0/total_targets), 1-(target_1/total_targets), 1-(target_2/total_targets),\n",
    "1-(target_3/total_targets), 1-(target_4/total_targets), 1-(target_5/total_targets), \n",
    "1-(target_6/total_targets), 1-(target_7/total_targets)]"
   ]
  },
  {
   "cell_type": "code",
   "execution_count": 32,
   "metadata": {},
   "outputs": [],
   "source": [
    "class_weights = torch.FloatTensor(weights).cuda()"
   ]
  },
  {
   "cell_type": "code",
   "execution_count": 33,
   "metadata": {},
   "outputs": [],
   "source": [
    "criterion = nn.CrossEntropyLoss(weight=class_weights)"
   ]
  },
  {
   "cell_type": "code",
   "execution_count": 34,
   "metadata": {},
   "outputs": [],
   "source": [
    "with open(\"class_weights.pkl\", \"wb\") as fp:   #Pickling\n",
    "    pickle.dump(weights, fp)"
   ]
  }
 ],
 "metadata": {
  "kernelspec": {
   "display_name": "Python 3",
   "language": "python",
   "name": "python3"
  },
  "language_info": {
   "codemirror_mode": {
    "name": "ipython",
    "version": 3
   },
   "file_extension": ".py",
   "mimetype": "text/x-python",
   "name": "python",
   "nbconvert_exporter": "python",
   "pygments_lexer": "ipython3",
   "version": "3.5.2"
  }
 },
 "nbformat": 4,
 "nbformat_minor": 2
}
