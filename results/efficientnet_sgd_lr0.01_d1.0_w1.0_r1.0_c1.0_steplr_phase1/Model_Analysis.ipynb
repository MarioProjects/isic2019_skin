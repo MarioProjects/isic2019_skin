{
 "cells": [
  {
   "cell_type": "code",
   "execution_count": 91,
   "metadata": {},
   "outputs": [],
   "source": [
    "import numpy as np\n",
    "import pickle"
   ]
  },
  {
   "cell_type": "code",
   "execution_count": 92,
   "metadata": {},
   "outputs": [],
   "source": [
    "with open('progress.pickle', 'rb') as f:\n",
    "    train_progress = pickle.load(f)"
   ]
  },
  {
   "cell_type": "code",
   "execution_count": 93,
   "metadata": {},
   "outputs": [
    {
     "name": "stdout",
     "output_type": "stream",
     "text": [
      "Max validation accuracy: 79.95%\n"
     ]
    }
   ],
   "source": [
    "print(\"Max validation accuracy: {:.2f}%\".format(np.array(train_progress[\"val_accuracy\"]).max()))"
   ]
  },
  {
   "cell_type": "code",
   "execution_count": 94,
   "metadata": {},
   "outputs": [],
   "source": [
    "# !/usr/bin/env python\n",
    "# coding: utf-8\n",
    "\n",
    "# ---- Library import ----\n",
    "\n",
    "import pickle\n",
    "from time import gmtime, strftime\n",
    "\n",
    "import albumentations\n",
    "import math\n",
    "import torch.nn as nn\n",
    "from torch.utils.data import DataLoader\n",
    "import torchy\n",
    "\n",
    "# ---- My utils ----\n",
    "from utils.train_arguments import *\n",
    "from utils.utils_data import *\n",
    "from utils.utils_training import *"
   ]
  },
  {
   "cell_type": "code",
   "execution_count": 95,
   "metadata": {},
   "outputs": [
    {
     "name": "stdout",
     "output_type": "stream",
     "text": [
      "Data loaded!\n",
      "\n"
     ]
    }
   ],
   "source": [
    "# Primero necesitamos reescalar (si usamos los coeficientes de Efficientnet) la resolucion de las imagenes a usar\n",
    "args.crop_size = math.ceil(args.crop_size * args.resolution_coefficient)\n",
    "args.img_size = math.ceil(args.img_size * args.resolution_coefficient)\n",
    "\n",
    "\n",
    "val_aug = albumentations.Compose([\n",
    "    albumentations.PadIfNeeded(p=1, min_height=args.crop_size, min_width=args.crop_size),\n",
    "    albumentations.Resize(args.img_size, args.img_size),\n",
    "    albumentations.CenterCrop(p=1, height=args.crop_size, width=args.crop_size)\n",
    "])\n",
    "\n",
    "\n",
    "val_dataset = ISIC2019_FromFolders(data_partition=\"validation\", albumentation=val_aug)\n",
    "val_loader = DataLoader(val_dataset, batch_size=args.batch_size, pin_memory=True, shuffle=False)\n",
    "print(\"Data loaded!\\n\")"
   ]
  },
  {
   "cell_type": "markdown",
   "metadata": {},
   "source": [
    "#### Load model"
   ]
  },
  {
   "cell_type": "code",
   "execution_count": 96,
   "metadata": {},
   "outputs": [
    {
     "name": "stdout",
     "output_type": "stream",
     "text": [
      "8 Classes detected!\n"
     ]
    }
   ],
   "source": [
    "num_classes = len(np.unique(ISIC_TRAIN_DF_TRUTH.target))\n",
    "print(\"{} Classes detected!\".format(num_classes))\n",
    "model = model_selector(args.model_name, num_classes, args.depth_coefficient, args.width_coefficient)\n",
    "model = torch.nn.DataParallel(model, device_ids=range(torch.cuda.device_count()))\n",
    "model.load_state_dict(torch.load(\"model_efficientnet_best_accuracy.pt\"))"
   ]
  },
  {
   "cell_type": "markdown",
   "metadata": {},
   "source": [
    "### Making predictions"
   ]
  },
  {
   "cell_type": "code",
   "execution_count": 105,
   "metadata": {},
   "outputs": [],
   "source": [
    "from sklearn.svm import SVC\n",
    "from sklearn.metrics import accuracy_score, balanced_accuracy_score\n",
    "from sklearn.metrics import confusion_matrix, precision_recall_fscore_support, roc_auc_score"
   ]
  },
  {
   "cell_type": "code",
   "execution_count": 98,
   "metadata": {},
   "outputs": [],
   "source": [
    "DEVICE = torch.device(\"cuda\" if torch.cuda.is_available() else \"cpu\")"
   ]
  },
  {
   "cell_type": "code",
   "execution_count": 99,
   "metadata": {},
   "outputs": [],
   "source": [
    "val_loss, val_correct = [], 0\n",
    "predicts, predicts_scores, truths = [], [], []\n",
    "init = -1\n",
    "model.eval()\n",
    "with torch.no_grad():\n",
    "    for image, target in val_loader:\n",
    "        image, target = image.to(DEVICE), target.to(DEVICE)\n",
    "        image = image.type(torch.float)\n",
    "        y_pred = model(image)\n",
    "        y_pred = torch.sigmoid(y_pred) # Necessary for predicts scores (AUC need values between 0->1)\n",
    "\n",
    "        loss = criterion(y_pred.float(), target.long())\n",
    "        val_loss.append(loss.item())\n",
    "        pred_score, pred = y_pred.max(1)  # get the index of the max log-probability\n",
    "        val_correct += pred.eq(target).sum().item()\n",
    "\n",
    "        predicts.append(pred.detach().cpu().numpy())\n",
    "        predicts_scores.append(pred_score.detach().cpu().numpy())\n",
    "        truths.append(target.detach().cpu().numpy())\n",
    "\n",
    "# predicts = np.concatenate(predicts).squeeze(1)\n",
    "# truths = np.concatenate(truths).squeeze(1)\n",
    "val_accuracy = 100. * val_correct / len(val_loader.dataset)"
   ]
  },
  {
   "cell_type": "code",
   "execution_count": 102,
   "metadata": {},
   "outputs": [],
   "source": [
    "predicts = np.concatenate(predicts)\n",
    "predicts_scores = np.concatenate(predicts_scores)\n",
    "truths = np.concatenate(truths)"
   ]
  },
  {
   "cell_type": "code",
   "execution_count": 100,
   "metadata": {},
   "outputs": [
    {
     "name": "stdout",
     "output_type": "stream",
     "text": [
      "Current validation accuracy: 79.95%\n"
     ]
    }
   ],
   "source": [
    "print(\"Current validation accuracy: {:.2f}%\".format(val_accuracy))"
   ]
  },
  {
   "cell_type": "code",
   "execution_count": 103,
   "metadata": {},
   "outputs": [
    {
     "name": "stdout",
     "output_type": "stream",
     "text": [
      "Accuracy: 79.95%\n"
     ]
    }
   ],
   "source": [
    "print('Current validation Accuracy: {0:.2f}%'.format(accuracy_score(truths, predicts)*100))"
   ]
  },
  {
   "cell_type": "code",
   "execution_count": 106,
   "metadata": {},
   "outputs": [
    {
     "name": "stdout",
     "output_type": "stream",
     "text": [
      "Balanced Accuracy: 68.97%\n"
     ]
    }
   ],
   "source": [
    "print('Current validation Balanced Accuracy: {0:.2f}%'.format(balanced_accuracy_score(truths, predicts)*100))"
   ]
  },
  {
   "cell_type": "code",
   "execution_count": 48,
   "metadata": {},
   "outputs": [],
   "source": [
    "# Creates a confusion matrix\n",
    "cm = confusion_matrix(truths, predicts) "
   ]
  },
  {
   "cell_type": "code",
   "execution_count": 54,
   "metadata": {},
   "outputs": [],
   "source": [
    "etiquetas_clase = []\n",
    "for clase in range(0, 8):\n",
    "    etiquetas_clase.append(CLASS_CATEGORIES[clase])"
   ]
  },
  {
   "cell_type": "code",
   "execution_count": 55,
   "metadata": {},
   "outputs": [
    {
     "data": {
      "text/plain": [
       "['MEL', 'NV', 'BCC', 'AK', 'BKL', 'DF', 'VASC', 'SCC']"
      ]
     },
     "execution_count": 55,
     "metadata": {},
     "output_type": "execute_result"
    }
   ],
   "source": [
    "etiquetas_clase"
   ]
  },
  {
   "cell_type": "code",
   "execution_count": 59,
   "metadata": {},
   "outputs": [],
   "source": [
    "import matplotlib.pyplot as plt\n",
    "import seaborn as sns"
   ]
  },
  {
   "cell_type": "code",
   "execution_count": 90,
   "metadata": {},
   "outputs": [
    {
     "data": {
      "image/png": "[encoded data removed]",
      "text/plain": [
       "<Figure size 792x792 with 2 Axes>"
      ]
     },
     "metadata": {
      "needs_background": "light"
     },
     "output_type": "display_data"
    }
   ],
   "source": [
    "# Transform to df for easier plotting\n",
    "cm_df = pd.DataFrame(cm,\n",
    "                     index = etiquetas_clase, \n",
    "                     columns = etiquetas_clase)\n",
    "\n",
    "plt.figure(figsize=(11,11))\n",
    "sns.heatmap(cm_df, annot=True)\n",
    "plt.title('Accuracy: {0:.2f}%'.format(accuracy_score(truths, predicts)*100))\n",
    "plt.ylabel('True label')\n",
    "plt.xlabel('Predicted label')\n",
    "plt.show()"
   ]
  },
  {
   "cell_type": "code",
   "execution_count": 87,
   "metadata": {},
   "outputs": [],
   "source": [
    "def multiclass_roc_auc_score(y_test, y_pred, average=\"macro\"):\n",
    "    lb = LabelBinarizer()\n",
    "    lb.fit(y_test)\n",
    "    y_test = lb.transform(y_test)\n",
    "    y_pred = lb.transform(y_pred)\n",
    "    return roc_auc_score(y_test, y_pred, average=average)"
   ]
  },
  {
   "cell_type": "code",
   "execution_count": 86,
   "metadata": {},
   "outputs": [
    {
     "data": {
      "text/plain": [
       "0.825952286144559"
      ]
     },
     "execution_count": 86,
     "metadata": {},
     "output_type": "execute_result"
    }
   ],
   "source": [
    "multiclass_roc_auc_score(truths, predicts)"
   ]
  }
 ],
 "metadata": {
  "kernelspec": {
   "display_name": "Python 3",
   "language": "python",
   "name": "python3"
  },
  "language_info": {
   "codemirror_mode": {
    "name": "ipython",
    "version": 3
   },
   "file_extension": ".py",
   "mimetype": "text/x-python",
   "name": "python",
   "nbconvert_exporter": "python",
   "pygments_lexer": "ipython3",
   "version": "3.5.2"
  }
 },
 "nbformat": 4,
 "nbformat_minor": 2
}
