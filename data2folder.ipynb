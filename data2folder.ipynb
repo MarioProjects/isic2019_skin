{
 "cells": [
  {
   "cell_type": "code",
   "execution_count": 1,
   "metadata": {},
   "outputs": [],
   "source": [
    "import pandas as pd\n",
    "import os\n",
    "from shutil import copyfile\n",
    "#copyfile(src, dst)"
   ]
  },
  {
   "cell_type": "code",
   "execution_count": 2,
   "metadata": {},
   "outputs": [],
   "source": [
    "ISIC_PATH = \"/home/maparla/DeepLearning/Datasets/ISIC2019/\"\n",
    "ISIC_TRAIN_ROOT_PATH = ISIC_PATH + \"ISIC_2019_Training_Input\"\n",
    "\n",
    "ROOT_PATH = {\"\":ISIC_TRAIN_ROOT_PATH, \"train\":ISIC_TRAIN_ROOT_PATH,\n",
    "             \"validation\":ISIC_TRAIN_ROOT_PATH}"
   ]
  },
  {
   "cell_type": "code",
   "execution_count": 3,
   "metadata": {},
   "outputs": [],
   "source": [
    "DIAGNOSTIC_CATEGORIES = {\"Melanoma\":\"MEL\", \"Melanocytic nevus\":\"NV\", \"Basal cell carcinoma\":\"BCC\",\n",
    "                        \"Actinic keratosis\":\"AK\", \"Benign keratosis\":\"BKL\", \"Dermatofibroma\":\"DF\",\n",
    "                        \"Vascular lesion\":\"VASC\", \"Squamous cell carcinoma\":\"SCC\", \"None of the others\":\"UNK\"}\n",
    "CATEGORIES_DIAGNOSTIC = {v: k for k, v in DIAGNOSTIC_CATEGORIES.items()}\n",
    "CATEGORIES_CLASS = {\"MEL\":0, \"NV\":1, \"BCC\":2, \"AK\":3, \"BKL\":4, \"DF\":5, \"VASC\":6, \"SCC\":7, \"UNK\":8}\n",
    "CLASS_CATEGORIES = {v: k for k, v in CATEGORIES_CLASS.items()}"
   ]
  },
  {
   "cell_type": "code",
   "execution_count": 4,
   "metadata": {},
   "outputs": [],
   "source": [
    "ISIC_TRAIN_DF_TRUTH = pd.read_csv(ISIC_PATH + \"ISIC_2019_Training_GroundTruth_WithTargets.csv\")"
   ]
  },
  {
   "cell_type": "code",
   "execution_count": 7,
   "metadata": {},
   "outputs": [],
   "source": [
    "imgs = []\n",
    "for dirpath, dirnames, files in os.walk(ISIC_TRAIN_ROOT_PATH):\n",
    "    for f in files:\n",
    "        if \".txt\" not in f:\n",
    "            img_path = os.path.join(dirpath, f)\n",
    "            imgs.append(img_path)\n",
    "            \n",
    "            img_name = img_path.split(\"/\")[-1]\n",
    "            img_name = img_name[:img_name.find(\".jpg\")] # quitamos la extension del nombre\n",
    "            target = CLASS_CATEGORIES[ISIC_TRAIN_DF_TRUTH.loc[ISIC_TRAIN_DF_TRUTH.image==img_name].target.values[0]]\n",
    "            \n",
    "            new_path = img_path.split(\"/\")\n",
    "            new_path[-2]=\"Train\"\n",
    "            new_path.insert(-1,target)\n",
    "            new_path = \"/\".join(new_path)\n",
    "            parent_dir = \"/\".join(new_path.split(\"/\")[:-1])\n",
    "            if not os.path.exists(parent_dir):\n",
    "                os.makedirs(parent_dir)\n",
    "            \n",
    "            copyfile(img_path, new_path)"
   ]
  }
 ],
 "metadata": {
  "kernelspec": {
   "display_name": "Python 3",
   "language": "python",
   "name": "python3"
  },
  "language_info": {
   "codemirror_mode": {
    "name": "ipython",
    "version": 3
   },
   "file_extension": ".py",
   "mimetype": "text/x-python",
   "name": "python",
   "nbconvert_exporter": "python",
   "pygments_lexer": "ipython3",
   "version": "3.5.2"
  }
 },
 "nbformat": 4,
 "nbformat_minor": 2
}
